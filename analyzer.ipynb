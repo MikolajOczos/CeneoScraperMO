{
 "cells": [
  {
   "cell_type": "code",
   "execution_count": 35,
   "metadata": {},
   "outputs": [],
   "source": [
    "import os \n",
    "import pandas as pd\n",
    "import numpy as np \n",
    "from matplotlib import pyplot as plt\n"
   ]
  },
  {
   "cell_type": "code",
   "execution_count": null,
   "metadata": {},
   "outputs": [],
   "source": [
    "### Importing"
   ]
  },
  {
   "cell_type": "code",
   "execution_count": 36,
   "metadata": {},
   "outputs": [
    {
     "name": "stdout",
     "output_type": "stream",
     "text": [
      "138536500\n"
     ]
    }
   ],
   "source": [
    "print(*[filename.split(\".\")[0] for filename in os.listdir(\"./opinions\")], sep=\"\\n\")"
   ]
  },
  {
   "cell_type": "code",
   "execution_count": null,
   "metadata": {},
   "outputs": [],
   "source": [
    "product_id = input(\"Please enter product code\")\n"
   ]
  },
  {
   "cell_type": "code",
   "execution_count": null,
   "metadata": {},
   "outputs": [],
   "source": [
    "opinions = pd.read_json(f\"./opinions/{product_id}.json\")\n",
    "opinions"
   ]
  },
  {
   "cell_type": "markdown",
   "metadata": {},
   "source": [
    "Calculating basic statisctics\n"
   ]
  },
  {
   "cell_type": "code",
   "execution_count": null,
   "metadata": {},
   "outputs": [],
   "source": [
    "opinions_count = opinions.shape[0]\n",
    "pros_count = opinions.pros_pl.astype(bool).sum()\n",
    "cons_count = opinions.cons_pl.astype(bool).sum()\n",
    "pros_cons_count = opinions.apply(lambda o: bool(o.pros_pl and o.cons_pl), axis=1).sum()\n",
    "average_stars  = opinions.stars.mean()\n",
    "print(f\"Number of opinions about the product : {opinions_count}\")\n",
    "print(f\"Number of opinions in which disadvantages have been listed : {pros_count}\")\n",
    "print(f\"Number of opinions in which advantages have been listed: {pros_count}\")\n",
    "print(f\"Number of opinions in which both advantages and disadvantages have been listed: {pros_cons_count}\")\n",
    "print(f\"Average score of the product: {average_stars:.2f}\")\n",
    "\n"
   ]
  }
 ],
 "metadata": {
  "kernelspec": {
   "display_name": ".venv",
   "language": "python",
   "name": "python3"
  },
  "language_info": {
   "codemirror_mode": {
    "name": "ipython",
    "version": 3
   },
   "file_extension": ".py",
   "mimetype": "text/x-python",
   "name": "python",
   "nbconvert_exporter": "python",
   "pygments_lexer": "ipython3",
   "version": "3.11.4"
  }
 },
 "nbformat": 4,
 "nbformat_minor": 2
}
