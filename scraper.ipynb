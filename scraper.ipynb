{
 "cells": [
  {
   "cell_type": "markdown",
   "metadata": {},
   "source": [
    "### Imports"
   ]
  },
  {
   "cell_type": "markdown",
   "metadata": {},
   "source": [
    "1. Choose the product from the site (source). Send a request through a browser for access."
   ]
  },
  {
   "cell_type": "code",
   "execution_count": 44,
   "metadata": {},
   "outputs": [],
   "source": [
    "import os\n",
    "import json\n",
    "import requests\n",
    "from bs4 import BeautifulSoup\n",
    "\n"
   ]
  },
  {
   "cell_type": "code",
   "execution_count": 45,
   "metadata": {},
   "outputs": [],
   "source": [
    "with open(\"./cookie.json\",\"r\", encoding=\"UTF-8\") as jf:\n",
    "    headers = json.load(jf)"
   ]
  },
  {
   "cell_type": "code",
   "execution_count": 46,
   "metadata": {},
   "outputs": [],
   "source": [
    "try:\n",
    "    \n",
    "    url = \"https://www.ceneo.pl\"+page_dom.select_one(\"a.pagination__next\")[\"href\"]\n",
    "except TypeError:\n",
    "    url = None"
   ]
  },
  {
   "cell_type": "code",
   "execution_count": null,
   "metadata": {},
   "outputs": [],
   "source": [
    "product_id = \"\"\n",
    "response = requests.get(url, headers=headers)\n",
    "if response.status_code == 200:\n",
    "    page_dom = BeautifulSoup(response.text, \"html.parser\")\n",
    "    opinions = page_dom.select(\"div.js_product-review:not(.user-post--highlight)\")\n",
    "    all_opinions = []\n",
    "for opinion in opinions:\n",
    "    single_opinion = {}\n",
    "    single_opinion[\"opinion_id\"] = opinion(\"data-entry-id\")\n",
    "    single_opinion[\"author\"] = opinion.select_one(\"span.user-post__author-name\").text.strip()\n",
    "    try:\n",
    "        single_opinion['reccomend'] = opinion.select_one(\"span.user-post_author-name__author-recomendation > em\").text.strip()\n",
    "    except AttributeError:\n",
    "        single_opinion[\"reccomend\"] = None\n",
    "    single_opinion['stars'] = opinion.select_one(\"span.user-post__score-count\").text.strip()\n",
    "    single_opinion['content'] = opinion.select_one(\"div.user-post__text\").text.strip()\n",
    "    single_opinion[\"pros\"] = [tag.text for tag in opinion.select(\"div.review-feature__item--positive\")]\n",
    "    single_opinion[\"cons\"]  = [tag.text for tag in opinion.select(\"div.review-feature__item--negative\")]\n",
    "    single_opinion['up_votes'] = opinion.select_one[\"div.review-feature__item--positive\"].strip()\n",
    "    single_opinion['up_votes'] = opinion.select_one(\"button.vote-yes\")[\"data-total-vote\"].strip()\n",
    "    single_opinion[\"down_votes\"] = opinion.select_one(\" button.vote-no\")[\"data-total-vote\"].strip()\n",
    "    single_opinion[\"published\"] = opinion.select_one(\"span.user-post__published > time:nth-child(1)\")[\"datetime\"].strip()\n",
    "    try:\n",
    "        single_opinion[\"purchased\"] = opinion.select_one(\"span.user-post__published > time:nth-child(2)\")[\"datetime]\"].strip()\n",
    "    except TypeError:\n",
    "        single_opinion = None\n",
    "        \n",
    "    all_opinions.append(single_opinion)\n",
    "print(single_opinion)\n",
    "\n",
    "\n",
    "\n"
   ]
  },
  {
   "cell_type": "code",
   "execution_count": null,
   "metadata": {},
   "outputs": [],
   "source": [
    "if not os.path.exists(\"./opinions\"):\n",
    "    os.mkdir()"
   ]
  },
  {
   "cell_type": "code",
   "execution_count": null,
   "metadata": {},
   "outputs": [],
   "source": [
    "with open(f\"./opinions/{product_id}.json\",\"w\",encoding=\"UTF-8\") as jf:\n",
    "    json.dump(all_opinions,jf,indent=4,ensure_ascii=False)"
   ]
  }
 ],
 "metadata": {
  "kernelspec": {
   "display_name": ".venv",
   "language": "python",
   "name": "python3"
  },
  "language_info": {
   "codemirror_mode": {
    "name": "ipython",
    "version": 3
   },
   "file_extension": ".py",
   "mimetype": "text/x-python",
   "name": "python",
   "nbconvert_exporter": "python",
   "pygments_lexer": "ipython3",
   "version": "3.11.4"
  }
 },
 "nbformat": 4,
 "nbformat_minor": 2
}
